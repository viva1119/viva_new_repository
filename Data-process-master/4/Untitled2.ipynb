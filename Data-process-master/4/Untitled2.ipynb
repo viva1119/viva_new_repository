{
 "cells": [
  {
   "cell_type": "code",
   "execution_count": 365,
   "metadata": {},
   "outputs": [],
   "source": [
    "from __future__ import print_function\n",
    "%matplotlib inline\n",
    "import pandas as pd\n",
    "import matplotlib.pyplot as plt\n",
    "import numpy as np\n",
    "from scipy import stats\n",
    "import seaborn as sns\n",
    "import statsmodels.api as sm\n",
    "from sklearn import linear_model\n",
    "from statsmodels.formula.api import ols\n",
    "from sklearn.linear_model import LinearRegression, Ridge, Lasso\n",
    "from sklearn.preprocessing import PolynomialFeatures\n",
    "from sklearn.pipeline import make_pipeline\n",
    "from sklearn import metrics\n",
    "from sklearn.tree import DecisionTreeClassifier\n",
    "from sklearn.ensemble import BaggingClassifier, AdaBoostClassifier, AdaBoostRegressor\n",
    "\n",
    "\n",
    "from sklearn.model_selection import train_test_split, cross_validate\n",
    "#from sklearn.cross_validation import train_test_split\n",
    "#from sklearn.cross_validation import KFold, cross_val_score, train_test_split\n",
    "from sklearn.model_selection import KFold\n",
    "# from sklearn.cross_validation import KFold, cross_val_score, train_test_split\n",
    "from sklearn import metrics\n",
    "from sklearn.linear_model import LinearRegression, Lasso, Ridge, ElasticNet, SGDRegressor\n",
    "%matplotlib inline\n",
    "import pylab as pl"
   ]
  },
  {
   "cell_type": "code",
   "execution_count": 366,
   "metadata": {
    "scrolled": false
   },
   "outputs": [],
   "source": [
    "df=pd.read_csv('data.csv')\n",
    "df1=df.dropna()"
   ]
  },
  {
   "cell_type": "code",
   "execution_count": 367,
   "metadata": {},
   "outputs": [],
   "source": [
    "X = df1[[\"budget\",\"vote_average\",\"vote_count\",\"runtime\"]]\n",
    "y = df1[[\"revenue\"]]"
   ]
  },
  {
   "cell_type": "code",
   "execution_count": 368,
   "metadata": {},
   "outputs": [],
   "source": [
    "from sklearn.model_selection import train_test_split\n",
    "X_train, X_test, y_train, y_test = train_test_split(X, y, test_size = 0.2, random_state = 0)"
   ]
  },
  {
   "cell_type": "code",
   "execution_count": 369,
   "metadata": {},
   "outputs": [
    {
     "data": {
      "text/plain": [
       "MLPRegressor(activation='relu', alpha=0.0001, batch_size='auto', beta_1=0.9,\n",
       "       beta_2=0.999, early_stopping=False, epsilon=1e-08,\n",
       "       hidden_layer_sizes=(100,), learning_rate='constant',\n",
       "       learning_rate_init=0.001, max_iter=200, momentum=0.9,\n",
       "       n_iter_no_change=10, nesterovs_momentum=True, power_t=0.5,\n",
       "       random_state=None, shuffle=True, solver='adam', tol=0.0001,\n",
       "       validation_fraction=0.1, verbose=False, warm_start=False)"
      ]
     },
     "execution_count": 369,
     "metadata": {},
     "output_type": "execute_result"
    }
   ],
   "source": [
    "#Neural Network\n",
    "#MLP\n",
    "\n",
    "\n",
    "from sklearn.neural_network import MLPRegressor\n",
    "mlp = MLPRegressor()\n",
    "mlp.fit(X_train, y_train['revenue'])"
   ]
  },
  {
   "cell_type": "code",
   "execution_count": 370,
   "metadata": {},
   "outputs": [],
   "source": [
    "y_pred10 = regressor.predict(X_test)"
   ]
  },
  {
   "cell_type": "code",
   "execution_count": 371,
   "metadata": {},
   "outputs": [
    {
     "data": {
      "text/plain": [
       "dict_keys(['base_estimator', 'learning_rate', 'loss', 'n_estimators', 'random_state'])"
      ]
     },
     "execution_count": 371,
     "metadata": {},
     "output_type": "execute_result"
    }
   ],
   "source": [
    "regressor.get_params().keys()"
   ]
  },
  {
   "cell_type": "code",
   "execution_count": 372,
   "metadata": {},
   "outputs": [
    {
     "data": {
      "text/html": [
       "<table class=\"simpletable\">\n",
       "<caption>OLS Regression Results</caption>\n",
       "<tr>\n",
       "  <th>Dep. Variable:</th>            <td>y</td>        <th>  R-squared:         </th> <td>   0.928</td> \n",
       "</tr>\n",
       "<tr>\n",
       "  <th>Model:</th>                   <td>OLS</td>       <th>  Adj. R-squared:    </th> <td>   0.927</td> \n",
       "</tr>\n",
       "<tr>\n",
       "  <th>Method:</th>             <td>Least Squares</td>  <th>  F-statistic:       </th> <td>   979.0</td> \n",
       "</tr>\n",
       "<tr>\n",
       "  <th>Date:</th>             <td>Sun, 11 Nov 2018</td> <th>  Prob (F-statistic):</th> <td>5.88e-173</td>\n",
       "</tr>\n",
       "<tr>\n",
       "  <th>Time:</th>                 <td>15:29:17</td>     <th>  Log-Likelihood:    </th> <td> -6085.7</td> \n",
       "</tr>\n",
       "<tr>\n",
       "  <th>No. Observations:</th>      <td>   310</td>      <th>  AIC:               </th> <td>1.218e+04</td>\n",
       "</tr>\n",
       "<tr>\n",
       "  <th>Df Residuals:</th>          <td>   306</td>      <th>  BIC:               </th> <td>1.219e+04</td>\n",
       "</tr>\n",
       "<tr>\n",
       "  <th>Df Model:</th>              <td>     4</td>      <th>                     </th>     <td> </td>    \n",
       "</tr>\n",
       "<tr>\n",
       "  <th>Covariance Type:</th>      <td>nonrobust</td>    <th>                     </th>     <td> </td>    \n",
       "</tr>\n",
       "</table>\n",
       "<table class=\"simpletable\">\n",
       "<tr>\n",
       "        <td></td>          <th>coef</th>     <th>std err</th>      <th>t</th>      <th>P>|t|</th>  <th>[0.025</th>    <th>0.975]</th>  \n",
       "</tr>\n",
       "<tr>\n",
       "  <th>budget</th>       <td>    1.9581</td> <td>    0.108</td> <td>   18.093</td> <td> 0.000</td> <td>    1.745</td> <td>    2.171</td>\n",
       "</tr>\n",
       "<tr>\n",
       "  <th>vote_average</th> <td>-8.672e+05</td> <td> 4.36e+06</td> <td>   -0.199</td> <td> 0.843</td> <td>-9.45e+06</td> <td> 7.72e+06</td>\n",
       "</tr>\n",
       "<tr>\n",
       "  <th>vote_count</th>   <td> 6.856e+04</td> <td> 3237.135</td> <td>   21.178</td> <td> 0.000</td> <td> 6.22e+04</td> <td> 7.49e+04</td>\n",
       "</tr>\n",
       "<tr>\n",
       "  <th>runtime</th>      <td> 1.479e+05</td> <td> 2.68e+05</td> <td>    0.551</td> <td> 0.582</td> <td> -3.8e+05</td> <td> 6.76e+05</td>\n",
       "</tr>\n",
       "</table>\n",
       "<table class=\"simpletable\">\n",
       "<tr>\n",
       "  <th>Omnibus:</th>       <td>55.821</td> <th>  Durbin-Watson:     </th> <td>   2.144</td>\n",
       "</tr>\n",
       "<tr>\n",
       "  <th>Prob(Omnibus):</th> <td> 0.000</td> <th>  Jarque-Bera (JB):  </th> <td> 174.568</td>\n",
       "</tr>\n",
       "<tr>\n",
       "  <th>Skew:</th>          <td> 0.775</td> <th>  Prob(JB):          </th> <td>1.24e-38</td>\n",
       "</tr>\n",
       "<tr>\n",
       "  <th>Kurtosis:</th>      <td> 6.334</td> <th>  Cond. No.          </th> <td>7.29e+07</td>\n",
       "</tr>\n",
       "</table><br/><br/>Warnings:<br/>[1] Standard Errors assume that the covariance matrix of the errors is correctly specified.<br/>[2] The condition number is large, 7.29e+07. This might indicate that there are<br/>strong multicollinearity or other numerical problems."
      ],
      "text/plain": [
       "<class 'statsmodels.iolib.summary.Summary'>\n",
       "\"\"\"\n",
       "                            OLS Regression Results                            \n",
       "==============================================================================\n",
       "Dep. Variable:                      y   R-squared:                       0.928\n",
       "Model:                            OLS   Adj. R-squared:                  0.927\n",
       "Method:                 Least Squares   F-statistic:                     979.0\n",
       "Date:                Sun, 11 Nov 2018   Prob (F-statistic):          5.88e-173\n",
       "Time:                        15:29:17   Log-Likelihood:                -6085.7\n",
       "No. Observations:                 310   AIC:                         1.218e+04\n",
       "Df Residuals:                     306   BIC:                         1.219e+04\n",
       "Df Model:                           4                                         \n",
       "Covariance Type:            nonrobust                                         \n",
       "================================================================================\n",
       "                   coef    std err          t      P>|t|      [0.025      0.975]\n",
       "--------------------------------------------------------------------------------\n",
       "budget           1.9581      0.108     18.093      0.000       1.745       2.171\n",
       "vote_average -8.672e+05   4.36e+06     -0.199      0.843   -9.45e+06    7.72e+06\n",
       "vote_count    6.856e+04   3237.135     21.178      0.000    6.22e+04    7.49e+04\n",
       "runtime       1.479e+05   2.68e+05      0.551      0.582    -3.8e+05    6.76e+05\n",
       "==============================================================================\n",
       "Omnibus:                       55.821   Durbin-Watson:                   2.144\n",
       "Prob(Omnibus):                  0.000   Jarque-Bera (JB):              174.568\n",
       "Skew:                           0.775   Prob(JB):                     1.24e-38\n",
       "Kurtosis:                       6.334   Cond. No.                     7.29e+07\n",
       "==============================================================================\n",
       "\n",
       "Warnings:\n",
       "[1] Standard Errors assume that the covariance matrix of the errors is correctly specified.\n",
       "[2] The condition number is large, 7.29e+07. This might indicate that there are\n",
       "strong multicollinearity or other numerical problems.\n",
       "\"\"\""
      ]
     },
     "execution_count": 372,
     "metadata": {},
     "output_type": "execute_result"
    }
   ],
   "source": [
    "# import statsmodels.api as sm\n",
    "# Note the swap of X and y\n",
    "model = sm.OLS(y_pred10, X_test)\n",
    "results = model.fit()\n",
    "# Statsmodels gives R-like statistical output\n",
    "results.summary()"
   ]
  },
  {
   "cell_type": "code",
   "execution_count": 373,
   "metadata": {},
   "outputs": [],
   "source": [
    "#######################################################################################################################"
   ]
  },
  {
   "cell_type": "code",
   "execution_count": 374,
   "metadata": {},
   "outputs": [
    {
     "name": "stderr",
     "output_type": "stream",
     "text": [
      "/Users/viva/anaconda3/envs/new/lib/python3.6/site-packages/sklearn/neural_network/multilayer_perceptron.py:562: ConvergenceWarning: Stochastic Optimizer: Maximum iterations (200) reached and the optimization hasn't converged yet.\n",
      "  % self.max_iter, ConvergenceWarning)\n"
     ]
    },
    {
     "data": {
      "text/plain": [
       "MLPRegressor(activation='tanh', alpha=100, batch_size='auto', beta_1=0.9,\n",
       "       beta_2=0.999, early_stopping=False, epsilon=1e-08,\n",
       "       hidden_layer_sizes=(500, 3), learning_rate='constant',\n",
       "       learning_rate_init=0.001, max_iter=200, momentum=0.9,\n",
       "       n_iter_no_change=10, nesterovs_momentum=True, power_t=0.5,\n",
       "       random_state=None, shuffle=True, solver='adam', tol=0.0001,\n",
       "       validation_fraction=0.1, verbose=False, warm_start=False)"
      ]
     },
     "execution_count": 374,
     "metadata": {},
     "output_type": "execute_result"
    }
   ],
   "source": [
    "\n",
    "from sklearn.neural_network import MLPRegressor\n",
    "mlp = MLPRegressor(hidden_layer_sizes=(500,3),activation='tanh',alpha=100)\n",
    "mlp.fit(X_train, y_train['revenue'])"
   ]
  },
  {
   "cell_type": "code",
   "execution_count": 375,
   "metadata": {},
   "outputs": [],
   "source": [
    "y_pred11 = regressor.predict(X_test)"
   ]
  },
  {
   "cell_type": "code",
   "execution_count": 376,
   "metadata": {},
   "outputs": [
    {
     "data": {
      "text/html": [
       "<table class=\"simpletable\">\n",
       "<caption>OLS Regression Results</caption>\n",
       "<tr>\n",
       "  <th>Dep. Variable:</th>            <td>y</td>        <th>  R-squared:         </th> <td>   0.928</td> \n",
       "</tr>\n",
       "<tr>\n",
       "  <th>Model:</th>                   <td>OLS</td>       <th>  Adj. R-squared:    </th> <td>   0.927</td> \n",
       "</tr>\n",
       "<tr>\n",
       "  <th>Method:</th>             <td>Least Squares</td>  <th>  F-statistic:       </th> <td>   979.0</td> \n",
       "</tr>\n",
       "<tr>\n",
       "  <th>Date:</th>             <td>Sun, 11 Nov 2018</td> <th>  Prob (F-statistic):</th> <td>5.88e-173</td>\n",
       "</tr>\n",
       "<tr>\n",
       "  <th>Time:</th>                 <td>15:29:24</td>     <th>  Log-Likelihood:    </th> <td> -6085.7</td> \n",
       "</tr>\n",
       "<tr>\n",
       "  <th>No. Observations:</th>      <td>   310</td>      <th>  AIC:               </th> <td>1.218e+04</td>\n",
       "</tr>\n",
       "<tr>\n",
       "  <th>Df Residuals:</th>          <td>   306</td>      <th>  BIC:               </th> <td>1.219e+04</td>\n",
       "</tr>\n",
       "<tr>\n",
       "  <th>Df Model:</th>              <td>     4</td>      <th>                     </th>     <td> </td>    \n",
       "</tr>\n",
       "<tr>\n",
       "  <th>Covariance Type:</th>      <td>nonrobust</td>    <th>                     </th>     <td> </td>    \n",
       "</tr>\n",
       "</table>\n",
       "<table class=\"simpletable\">\n",
       "<tr>\n",
       "        <td></td>          <th>coef</th>     <th>std err</th>      <th>t</th>      <th>P>|t|</th>  <th>[0.025</th>    <th>0.975]</th>  \n",
       "</tr>\n",
       "<tr>\n",
       "  <th>budget</th>       <td>    1.9581</td> <td>    0.108</td> <td>   18.093</td> <td> 0.000</td> <td>    1.745</td> <td>    2.171</td>\n",
       "</tr>\n",
       "<tr>\n",
       "  <th>vote_average</th> <td>-8.672e+05</td> <td> 4.36e+06</td> <td>   -0.199</td> <td> 0.843</td> <td>-9.45e+06</td> <td> 7.72e+06</td>\n",
       "</tr>\n",
       "<tr>\n",
       "  <th>vote_count</th>   <td> 6.856e+04</td> <td> 3237.135</td> <td>   21.178</td> <td> 0.000</td> <td> 6.22e+04</td> <td> 7.49e+04</td>\n",
       "</tr>\n",
       "<tr>\n",
       "  <th>runtime</th>      <td> 1.479e+05</td> <td> 2.68e+05</td> <td>    0.551</td> <td> 0.582</td> <td> -3.8e+05</td> <td> 6.76e+05</td>\n",
       "</tr>\n",
       "</table>\n",
       "<table class=\"simpletable\">\n",
       "<tr>\n",
       "  <th>Omnibus:</th>       <td>55.821</td> <th>  Durbin-Watson:     </th> <td>   2.144</td>\n",
       "</tr>\n",
       "<tr>\n",
       "  <th>Prob(Omnibus):</th> <td> 0.000</td> <th>  Jarque-Bera (JB):  </th> <td> 174.568</td>\n",
       "</tr>\n",
       "<tr>\n",
       "  <th>Skew:</th>          <td> 0.775</td> <th>  Prob(JB):          </th> <td>1.24e-38</td>\n",
       "</tr>\n",
       "<tr>\n",
       "  <th>Kurtosis:</th>      <td> 6.334</td> <th>  Cond. No.          </th> <td>7.29e+07</td>\n",
       "</tr>\n",
       "</table><br/><br/>Warnings:<br/>[1] Standard Errors assume that the covariance matrix of the errors is correctly specified.<br/>[2] The condition number is large, 7.29e+07. This might indicate that there are<br/>strong multicollinearity or other numerical problems."
      ],
      "text/plain": [
       "<class 'statsmodels.iolib.summary.Summary'>\n",
       "\"\"\"\n",
       "                            OLS Regression Results                            \n",
       "==============================================================================\n",
       "Dep. Variable:                      y   R-squared:                       0.928\n",
       "Model:                            OLS   Adj. R-squared:                  0.927\n",
       "Method:                 Least Squares   F-statistic:                     979.0\n",
       "Date:                Sun, 11 Nov 2018   Prob (F-statistic):          5.88e-173\n",
       "Time:                        15:29:24   Log-Likelihood:                -6085.7\n",
       "No. Observations:                 310   AIC:                         1.218e+04\n",
       "Df Residuals:                     306   BIC:                         1.219e+04\n",
       "Df Model:                           4                                         \n",
       "Covariance Type:            nonrobust                                         \n",
       "================================================================================\n",
       "                   coef    std err          t      P>|t|      [0.025      0.975]\n",
       "--------------------------------------------------------------------------------\n",
       "budget           1.9581      0.108     18.093      0.000       1.745       2.171\n",
       "vote_average -8.672e+05   4.36e+06     -0.199      0.843   -9.45e+06    7.72e+06\n",
       "vote_count    6.856e+04   3237.135     21.178      0.000    6.22e+04    7.49e+04\n",
       "runtime       1.479e+05   2.68e+05      0.551      0.582    -3.8e+05    6.76e+05\n",
       "==============================================================================\n",
       "Omnibus:                       55.821   Durbin-Watson:                   2.144\n",
       "Prob(Omnibus):                  0.000   Jarque-Bera (JB):              174.568\n",
       "Skew:                           0.775   Prob(JB):                     1.24e-38\n",
       "Kurtosis:                       6.334   Cond. No.                     7.29e+07\n",
       "==============================================================================\n",
       "\n",
       "Warnings:\n",
       "[1] Standard Errors assume that the covariance matrix of the errors is correctly specified.\n",
       "[2] The condition number is large, 7.29e+07. This might indicate that there are\n",
       "strong multicollinearity or other numerical problems.\n",
       "\"\"\""
      ]
     },
     "execution_count": 376,
     "metadata": {},
     "output_type": "execute_result"
    }
   ],
   "source": [
    "model = sm.OLS(y_pred11, X_test)\n",
    "results = model.fit()\n",
    "results.summary()"
   ]
  },
  {
   "cell_type": "code",
   "execution_count": null,
   "metadata": {},
   "outputs": [],
   "source": []
  },
  {
   "cell_type": "code",
   "execution_count": 47,
   "metadata": {},
   "outputs": [],
   "source": [
    "#Boosting"
   ]
  },
  {
   "cell_type": "code",
   "execution_count": 309,
   "metadata": {},
   "outputs": [
    {
     "name": "stderr",
     "output_type": "stream",
     "text": [
      "/Users/viva/anaconda3/envs/new/lib/python3.6/site-packages/sklearn/utils/validation.py:752: DataConversionWarning: A column-vector y was passed when a 1d array was expected. Please change the shape of y to (n_samples, ), for example using ravel().\n",
      "  y = column_or_1d(y, warn=True)\n"
     ]
    },
    {
     "data": {
      "text/plain": [
       "AdaBoostRegressor(base_estimator=None, learning_rate=1.0, loss='linear',\n",
       "         n_estimators=100, random_state=None)"
      ]
     },
     "execution_count": 309,
     "metadata": {},
     "output_type": "execute_result"
    }
   ],
   "source": [
    "regressor = AdaBoostRegressor(base_estimator=None, n_estimators=100, learning_rate=1.0, loss='linear', random_state=None)\n",
    "regressor.fit(X_train, y_train)"
   ]
  },
  {
   "cell_type": "code",
   "execution_count": 310,
   "metadata": {},
   "outputs": [
    {
     "name": "stdout",
     "output_type": "stream",
     "text": [
      "[1.91567247e+08 1.94193560e+08 8.59279518e+08 7.59540139e+08\n",
      " 9.79649009e+07 1.08551395e+08 1.59934371e+08 7.51443981e+08\n",
      " 1.08350094e+08 3.82537556e+07 1.58138596e+08 2.85141124e+07\n",
      " 2.66211988e+07 1.45488211e+08 1.10471953e+08 2.66211988e+07\n",
      " 1.08350094e+08 2.66211988e+07 1.08551395e+08 1.28124798e+08\n",
      " 1.44802499e+08 1.10471953e+08 1.58138596e+08 1.39380285e+08\n",
      " 3.68105087e+08 7.48626644e+08 1.27881210e+08 1.64729857e+08\n",
      " 8.31028011e+08 1.28124798e+08 2.04394608e+08 3.29733102e+08\n",
      " 6.05114025e+07 1.08551395e+08 1.10471953e+08 2.18109856e+08\n",
      " 1.27881210e+08 1.23712297e+08 3.82804343e+07 1.04442365e+09\n",
      " 1.08551395e+08 3.52187297e+08 1.27881210e+08 2.08523004e+08\n",
      " 4.46297618e+08 1.62620633e+08 1.96439824e+08 1.27881210e+08\n",
      " 2.88751971e+08 1.57208078e+08 1.10471953e+08 1.45587730e+08\n",
      " 3.68105087e+08 8.05625813e+08 1.50302341e+08 1.08551395e+08\n",
      " 1.73232895e+08 1.14870132e+08 1.10471953e+08 9.76218554e+08\n",
      " 1.10471953e+08 1.10471953e+08 2.36653678e+08 1.28589692e+08\n",
      " 3.68105087e+08 3.82537556e+07 1.10471953e+08 1.39380285e+08\n",
      " 1.21078372e+08 1.28589692e+08 7.83484664e+08 1.27881210e+08\n",
      " 1.08551395e+08 1.10471953e+08 1.10471953e+08 1.10471953e+08\n",
      " 1.08551395e+08 1.48763130e+08 1.10471953e+08 1.78098650e+08\n",
      " 1.10471953e+08 1.28124798e+08 1.10471953e+08 1.30565463e+08\n",
      " 2.11441098e+08 1.21078372e+08 1.50302341e+08 1.64692526e+08\n",
      " 1.43506711e+08 1.78098650e+08 1.22695609e+08 1.08350094e+08\n",
      " 2.59697470e+08 1.32170698e+08 1.28589692e+08 1.27881210e+08\n",
      " 1.64729857e+08 2.11441098e+08 1.73232895e+08 2.67687904e+08\n",
      " 7.30049521e+08 1.44802499e+08 2.66211988e+07 1.94207018e+08\n",
      " 1.23712297e+08 7.31562394e+08 2.81457488e+08 4.65140492e+07\n",
      " 2.08523004e+08 3.24933184e+07 2.66211988e+07 1.52861597e+08\n",
      " 9.82634236e+07 9.10306467e+08 1.21078372e+08 1.10471953e+08\n",
      " 1.81519315e+08 1.21078372e+08 1.10471953e+08 1.10471953e+08\n",
      " 1.64692526e+08 1.28589692e+08 1.47705822e+08 1.45587730e+08\n",
      " 1.27881210e+08 2.66211988e+07 3.78297343e+08 1.23712297e+08\n",
      " 1.28589692e+08 3.82804343e+07 1.57208078e+08 8.31028011e+08\n",
      " 1.23712297e+08 1.08551395e+08 1.27881210e+08 1.08551395e+08\n",
      " 6.33764809e+08 1.08551395e+08 2.69307981e+07 1.27881210e+08\n",
      " 3.68105087e+08 2.36653678e+08 1.10471953e+08 1.94207018e+08\n",
      " 1.21078372e+08 7.27931397e+08 1.27881210e+08 1.28589692e+08\n",
      " 3.35878445e+08 1.30565463e+08 1.45488211e+08 8.96639520e+08\n",
      " 1.28589692e+08 1.30565463e+08 3.35878445e+08 2.09529862e+08\n",
      " 1.10471953e+08 1.08551395e+08 1.44802499e+08 3.82804343e+07\n",
      " 1.73026874e+08 2.67687904e+08 4.65140492e+07 1.45587730e+08\n",
      " 1.73026874e+08 4.46297618e+08 1.48555476e+08 1.90975900e+08\n",
      " 1.21078372e+08 1.59669672e+08 1.10471953e+08 8.63164782e+08\n",
      " 2.36653678e+08 1.22695609e+08 1.27881210e+08 1.30565463e+08\n",
      " 1.59934371e+08 1.10471953e+08 1.22695609e+08 1.88594799e+08\n",
      " 1.27881210e+08 1.94207018e+08 2.59697470e+08 1.21078372e+08\n",
      " 1.22695609e+08 1.27823418e+08 1.58138596e+08 1.32170698e+08\n",
      " 1.17053882e+08 2.69307981e+07 6.40985787e+08 1.32170698e+08\n",
      " 1.10471953e+08 1.88594799e+08 1.23712297e+08 1.45587730e+08\n",
      " 1.57208078e+08 1.28124798e+08 1.22695609e+08 1.10471953e+08\n",
      " 1.59934371e+08 1.10471953e+08 1.81519315e+08 1.51577819e+08\n",
      " 2.09529862e+08 1.28124798e+08 1.27881210e+08 8.89769536e+08\n",
      " 2.51167447e+07 1.10471953e+08 9.52785427e+08 1.30565463e+08\n",
      " 8.24165766e+08 1.59934371e+08 1.50302341e+08 1.47705822e+08\n",
      " 1.78098650e+08 1.48555476e+08 3.82804343e+07 3.82804343e+07\n",
      " 1.27823418e+08 1.32170698e+08 2.16909331e+08 9.27709128e+08\n",
      " 1.08551395e+08 1.94193560e+08 1.08551395e+08 3.82537556e+07\n",
      " 1.50302341e+08 1.73401403e+08 1.45488211e+08 1.08350094e+08\n",
      " 4.65140492e+07 3.82804343e+07 8.55919329e+08 1.27881210e+08\n",
      " 1.45587730e+08 1.10471953e+08 1.10471953e+08 9.79649009e+07\n",
      " 1.48763130e+08 1.30565463e+08 2.36653678e+08 1.10471953e+08\n",
      " 1.10471953e+08 1.23712297e+08 1.64692526e+08 1.64692526e+08\n",
      " 1.58138596e+08 1.08551395e+08 1.48763130e+08 1.45587730e+08\n",
      " 1.39380285e+08 2.80198413e+08 1.23712297e+08 1.94207018e+08\n",
      " 9.10306467e+08 1.64729857e+08 1.45587730e+08 2.18109856e+08\n",
      " 1.08350094e+08 4.65140492e+07 3.82537556e+07 1.81519315e+08\n",
      " 1.10471953e+08 8.96639520e+08 1.88594799e+08 4.99070112e+08\n",
      " 1.28589692e+08 1.48763130e+08 2.69307981e+07 1.10471953e+08\n",
      " 1.45587730e+08 9.86172574e+08 9.79649009e+07 1.58138596e+08\n",
      " 1.08551395e+08 1.10471953e+08 1.30565463e+08 1.27823418e+08\n",
      " 1.22695609e+08 2.51167447e+07 1.47762329e+08 1.44802499e+08\n",
      " 1.22695609e+08 2.08523004e+08 7.59540139e+08 7.48626644e+08\n",
      " 1.94193560e+08 3.49106501e+08 1.08551395e+08 1.28124798e+08\n",
      " 1.37241516e+08 1.81519315e+08 7.89827651e+08 3.06152119e+07\n",
      " 7.31562394e+08 1.59669672e+08 3.52187297e+08 1.10471953e+08\n",
      " 1.48555476e+08 2.19965742e+08 1.94207018e+08 1.37241516e+08\n",
      " 1.21078372e+08 1.21078372e+08 2.66211988e+07 1.21078372e+08\n",
      " 1.08551395e+08 5.20393832e+07]\n"
     ]
    }
   ],
   "source": [
    "y_pred6 = regressor.predict(X_test)\n",
    "print(y_pred6)"
   ]
  },
  {
   "cell_type": "code",
   "execution_count": 311,
   "metadata": {},
   "outputs": [
    {
     "data": {
      "text/html": [
       "<table class=\"simpletable\">\n",
       "<caption>OLS Regression Results</caption>\n",
       "<tr>\n",
       "  <th>Dep. Variable:</th>            <td>y</td>        <th>  R-squared:         </th> <td>   0.928</td> \n",
       "</tr>\n",
       "<tr>\n",
       "  <th>Model:</th>                   <td>OLS</td>       <th>  Adj. R-squared:    </th> <td>   0.927</td> \n",
       "</tr>\n",
       "<tr>\n",
       "  <th>Method:</th>             <td>Least Squares</td>  <th>  F-statistic:       </th> <td>   979.0</td> \n",
       "</tr>\n",
       "<tr>\n",
       "  <th>Date:</th>             <td>Sat, 10 Nov 2018</td> <th>  Prob (F-statistic):</th> <td>5.88e-173</td>\n",
       "</tr>\n",
       "<tr>\n",
       "  <th>Time:</th>                 <td>20:13:09</td>     <th>  Log-Likelihood:    </th> <td> -6085.7</td> \n",
       "</tr>\n",
       "<tr>\n",
       "  <th>No. Observations:</th>      <td>   310</td>      <th>  AIC:               </th> <td>1.218e+04</td>\n",
       "</tr>\n",
       "<tr>\n",
       "  <th>Df Residuals:</th>          <td>   306</td>      <th>  BIC:               </th> <td>1.219e+04</td>\n",
       "</tr>\n",
       "<tr>\n",
       "  <th>Df Model:</th>              <td>     4</td>      <th>                     </th>     <td> </td>    \n",
       "</tr>\n",
       "<tr>\n",
       "  <th>Covariance Type:</th>      <td>nonrobust</td>    <th>                     </th>     <td> </td>    \n",
       "</tr>\n",
       "</table>\n",
       "<table class=\"simpletable\">\n",
       "<tr>\n",
       "        <td></td>          <th>coef</th>     <th>std err</th>      <th>t</th>      <th>P>|t|</th>  <th>[0.025</th>    <th>0.975]</th>  \n",
       "</tr>\n",
       "<tr>\n",
       "  <th>budget</th>       <td>    1.9581</td> <td>    0.108</td> <td>   18.093</td> <td> 0.000</td> <td>    1.745</td> <td>    2.171</td>\n",
       "</tr>\n",
       "<tr>\n",
       "  <th>vote_average</th> <td>-8.672e+05</td> <td> 4.36e+06</td> <td>   -0.199</td> <td> 0.843</td> <td>-9.45e+06</td> <td> 7.72e+06</td>\n",
       "</tr>\n",
       "<tr>\n",
       "  <th>vote_count</th>   <td> 6.856e+04</td> <td> 3237.135</td> <td>   21.178</td> <td> 0.000</td> <td> 6.22e+04</td> <td> 7.49e+04</td>\n",
       "</tr>\n",
       "<tr>\n",
       "  <th>runtime</th>      <td> 1.479e+05</td> <td> 2.68e+05</td> <td>    0.551</td> <td> 0.582</td> <td> -3.8e+05</td> <td> 6.76e+05</td>\n",
       "</tr>\n",
       "</table>\n",
       "<table class=\"simpletable\">\n",
       "<tr>\n",
       "  <th>Omnibus:</th>       <td>55.821</td> <th>  Durbin-Watson:     </th> <td>   2.144</td>\n",
       "</tr>\n",
       "<tr>\n",
       "  <th>Prob(Omnibus):</th> <td> 0.000</td> <th>  Jarque-Bera (JB):  </th> <td> 174.568</td>\n",
       "</tr>\n",
       "<tr>\n",
       "  <th>Skew:</th>          <td> 0.775</td> <th>  Prob(JB):          </th> <td>1.24e-38</td>\n",
       "</tr>\n",
       "<tr>\n",
       "  <th>Kurtosis:</th>      <td> 6.334</td> <th>  Cond. No.          </th> <td>7.29e+07</td>\n",
       "</tr>\n",
       "</table><br/><br/>Warnings:<br/>[1] Standard Errors assume that the covariance matrix of the errors is correctly specified.<br/>[2] The condition number is large, 7.29e+07. This might indicate that there are<br/>strong multicollinearity or other numerical problems."
      ],
      "text/plain": [
       "<class 'statsmodels.iolib.summary.Summary'>\n",
       "\"\"\"\n",
       "                            OLS Regression Results                            \n",
       "==============================================================================\n",
       "Dep. Variable:                      y   R-squared:                       0.928\n",
       "Model:                            OLS   Adj. R-squared:                  0.927\n",
       "Method:                 Least Squares   F-statistic:                     979.0\n",
       "Date:                Sat, 10 Nov 2018   Prob (F-statistic):          5.88e-173\n",
       "Time:                        20:13:09   Log-Likelihood:                -6085.7\n",
       "No. Observations:                 310   AIC:                         1.218e+04\n",
       "Df Residuals:                     306   BIC:                         1.219e+04\n",
       "Df Model:                           4                                         \n",
       "Covariance Type:            nonrobust                                         \n",
       "================================================================================\n",
       "                   coef    std err          t      P>|t|      [0.025      0.975]\n",
       "--------------------------------------------------------------------------------\n",
       "budget           1.9581      0.108     18.093      0.000       1.745       2.171\n",
       "vote_average -8.672e+05   4.36e+06     -0.199      0.843   -9.45e+06    7.72e+06\n",
       "vote_count    6.856e+04   3237.135     21.178      0.000    6.22e+04    7.49e+04\n",
       "runtime       1.479e+05   2.68e+05      0.551      0.582    -3.8e+05    6.76e+05\n",
       "==============================================================================\n",
       "Omnibus:                       55.821   Durbin-Watson:                   2.144\n",
       "Prob(Omnibus):                  0.000   Jarque-Bera (JB):              174.568\n",
       "Skew:                           0.775   Prob(JB):                     1.24e-38\n",
       "Kurtosis:                       6.334   Cond. No.                     7.29e+07\n",
       "==============================================================================\n",
       "\n",
       "Warnings:\n",
       "[1] Standard Errors assume that the covariance matrix of the errors is correctly specified.\n",
       "[2] The condition number is large, 7.29e+07. This might indicate that there are\n",
       "strong multicollinearity or other numerical problems.\n",
       "\"\"\""
      ]
     },
     "execution_count": 311,
     "metadata": {},
     "output_type": "execute_result"
    }
   ],
   "source": [
    "# import statsmodels.api as sm\n",
    "# Note the swap of X and y\n",
    "model = sm.OLS(y_pred6, X_test)\n",
    "results = model.fit()\n",
    "# Statsmodels gives R-like statistical output\n",
    "results.summary()"
   ]
  },
  {
   "cell_type": "code",
   "execution_count": 377,
   "metadata": {},
   "outputs": [
    {
     "name": "stdout",
     "output_type": "stream",
     "text": [
      "KFold(n_splits=5, random_state=None, shuffle=False)\n"
     ]
    }
   ],
   "source": [
    "kf = KFold(n_splits=5)\n",
    "\n",
    "kf.get_n_splits(X)\n",
    "print(kf)"
   ]
  },
  {
   "cell_type": "code",
   "execution_count": 378,
   "metadata": {},
   "outputs": [],
   "source": [
    "linreg = LinearRegression()"
   ]
  },
  {
   "cell_type": "code",
   "execution_count": 387,
   "metadata": {},
   "outputs": [],
   "source": [
    "y_pred = linreg.predict(X_test)"
   ]
  },
  {
   "cell_type": "code",
   "execution_count": 380,
   "metadata": {},
   "outputs": [
    {
     "data": {
      "text/plain": [
       "508016177.2673385"
      ]
     },
     "execution_count": 380,
     "metadata": {},
     "output_type": "execute_result"
    }
   ],
   "source": [
    "rmse = np.sqrt(metrics.mean_squared_error(y_test, y_pred))\n",
    "rmse"
   ]
  },
  {
   "cell_type": "code",
   "execution_count": 381,
   "metadata": {},
   "outputs": [
    {
     "name": "stdout",
     "output_type": "stream",
     "text": [
      "[ 310  311  312 ... 1544 1545 1546]\n",
      "[  0   1   2   3   4   5   6   7   8   9  10  11  12  13  14  15  16  17\n",
      "  18  19  20  21  22  23  24  25  26  27  28  29  30  31  32  33  34  35\n",
      "  36  37  38  39  40  41  42  43  44  45  46  47  48  49  50  51  52  53\n",
      "  54  55  56  57  58  59  60  61  62  63  64  65  66  67  68  69  70  71\n",
      "  72  73  74  75  76  77  78  79  80  81  82  83  84  85  86  87  88  89\n",
      "  90  91  92  93  94  95  96  97  98  99 100 101 102 103 104 105 106 107\n",
      " 108 109 110 111 112 113 114 115 116 117 118 119 120 121 122 123 124 125\n",
      " 126 127 128 129 130 131 132 133 134 135 136 137 138 139 140 141 142 143\n",
      " 144 145 146 147 148 149 150 151 152 153 154 155 156 157 158 159 160 161\n",
      " 162 163 164 165 166 167 168 169 170 171 172 173 174 175 176 177 178 179\n",
      " 180 181 182 183 184 185 186 187 188 189 190 191 192 193 194 195 196 197\n",
      " 198 199 200 201 202 203 204 205 206 207 208 209 210 211 212 213 214 215\n",
      " 216 217 218 219 220 221 222 223 224 225 226 227 228 229 230 231 232 233\n",
      " 234 235 236 237 238 239 240 241 242 243 244 245 246 247 248 249 250 251\n",
      " 252 253 254 255 256 257 258 259 260 261 262 263 264 265 266 267 268 269\n",
      " 270 271 272 273 274 275 276 277 278 279 280 281 282 283 284 285 286 287\n",
      " 288 289 290 291 292 293 294 295 296 297 298 299 300 301 302 303 304 305\n",
      " 306 307 308 309]\n",
      "[   0    1    2 ... 1544 1545 1546]\n",
      "[310 311 312 313 314 315 316 317 318 319 320 321 322 323 324 325 326 327\n",
      " 328 329 330 331 332 333 334 335 336 337 338 339 340 341 342 343 344 345\n",
      " 346 347 348 349 350 351 352 353 354 355 356 357 358 359 360 361 362 363\n",
      " 364 365 366 367 368 369 370 371 372 373 374 375 376 377 378 379 380 381\n",
      " 382 383 384 385 386 387 388 389 390 391 392 393 394 395 396 397 398 399\n",
      " 400 401 402 403 404 405 406 407 408 409 410 411 412 413 414 415 416 417\n",
      " 418 419 420 421 422 423 424 425 426 427 428 429 430 431 432 433 434 435\n",
      " 436 437 438 439 440 441 442 443 444 445 446 447 448 449 450 451 452 453\n",
      " 454 455 456 457 458 459 460 461 462 463 464 465 466 467 468 469 470 471\n",
      " 472 473 474 475 476 477 478 479 480 481 482 483 484 485 486 487 488 489\n",
      " 490 491 492 493 494 495 496 497 498 499 500 501 502 503 504 505 506 507\n",
      " 508 509 510 511 512 513 514 515 516 517 518 519 520 521 522 523 524 525\n",
      " 526 527 528 529 530 531 532 533 534 535 536 537 538 539 540 541 542 543\n",
      " 544 545 546 547 548 549 550 551 552 553 554 555 556 557 558 559 560 561\n",
      " 562 563 564 565 566 567 568 569 570 571 572 573 574 575 576 577 578 579\n",
      " 580 581 582 583 584 585 586 587 588 589 590 591 592 593 594 595 596 597\n",
      " 598 599 600 601 602 603 604 605 606 607 608 609 610 611 612 613 614 615\n",
      " 616 617 618 619]\n",
      "[   0    1    2 ... 1544 1545 1546]\n",
      "[620 621 622 623 624 625 626 627 628 629 630 631 632 633 634 635 636 637\n",
      " 638 639 640 641 642 643 644 645 646 647 648 649 650 651 652 653 654 655\n",
      " 656 657 658 659 660 661 662 663 664 665 666 667 668 669 670 671 672 673\n",
      " 674 675 676 677 678 679 680 681 682 683 684 685 686 687 688 689 690 691\n",
      " 692 693 694 695 696 697 698 699 700 701 702 703 704 705 706 707 708 709\n",
      " 710 711 712 713 714 715 716 717 718 719 720 721 722 723 724 725 726 727\n",
      " 728 729 730 731 732 733 734 735 736 737 738 739 740 741 742 743 744 745\n",
      " 746 747 748 749 750 751 752 753 754 755 756 757 758 759 760 761 762 763\n",
      " 764 765 766 767 768 769 770 771 772 773 774 775 776 777 778 779 780 781\n",
      " 782 783 784 785 786 787 788 789 790 791 792 793 794 795 796 797 798 799\n",
      " 800 801 802 803 804 805 806 807 808 809 810 811 812 813 814 815 816 817\n",
      " 818 819 820 821 822 823 824 825 826 827 828 829 830 831 832 833 834 835\n",
      " 836 837 838 839 840 841 842 843 844 845 846 847 848 849 850 851 852 853\n",
      " 854 855 856 857 858 859 860 861 862 863 864 865 866 867 868 869 870 871\n",
      " 872 873 874 875 876 877 878 879 880 881 882 883 884 885 886 887 888 889\n",
      " 890 891 892 893 894 895 896 897 898 899 900 901 902 903 904 905 906 907\n",
      " 908 909 910 911 912 913 914 915 916 917 918 919 920 921 922 923 924 925\n",
      " 926 927 928]\n",
      "[   0    1    2 ... 1544 1545 1546]\n",
      "[ 929  930  931  932  933  934  935  936  937  938  939  940  941  942\n",
      "  943  944  945  946  947  948  949  950  951  952  953  954  955  956\n",
      "  957  958  959  960  961  962  963  964  965  966  967  968  969  970\n",
      "  971  972  973  974  975  976  977  978  979  980  981  982  983  984\n",
      "  985  986  987  988  989  990  991  992  993  994  995  996  997  998\n",
      "  999 1000 1001 1002 1003 1004 1005 1006 1007 1008 1009 1010 1011 1012\n",
      " 1013 1014 1015 1016 1017 1018 1019 1020 1021 1022 1023 1024 1025 1026\n",
      " 1027 1028 1029 1030 1031 1032 1033 1034 1035 1036 1037 1038 1039 1040\n",
      " 1041 1042 1043 1044 1045 1046 1047 1048 1049 1050 1051 1052 1053 1054\n",
      " 1055 1056 1057 1058 1059 1060 1061 1062 1063 1064 1065 1066 1067 1068\n",
      " 1069 1070 1071 1072 1073 1074 1075 1076 1077 1078 1079 1080 1081 1082\n",
      " 1083 1084 1085 1086 1087 1088 1089 1090 1091 1092 1093 1094 1095 1096\n",
      " 1097 1098 1099 1100 1101 1102 1103 1104 1105 1106 1107 1108 1109 1110\n",
      " 1111 1112 1113 1114 1115 1116 1117 1118 1119 1120 1121 1122 1123 1124\n",
      " 1125 1126 1127 1128 1129 1130 1131 1132 1133 1134 1135 1136 1137 1138\n",
      " 1139 1140 1141 1142 1143 1144 1145 1146 1147 1148 1149 1150 1151 1152\n",
      " 1153 1154 1155 1156 1157 1158 1159 1160 1161 1162 1163 1164 1165 1166\n",
      " 1167 1168 1169 1170 1171 1172 1173 1174 1175 1176 1177 1178 1179 1180\n",
      " 1181 1182 1183 1184 1185 1186 1187 1188 1189 1190 1191 1192 1193 1194\n",
      " 1195 1196 1197 1198 1199 1200 1201 1202 1203 1204 1205 1206 1207 1208\n",
      " 1209 1210 1211 1212 1213 1214 1215 1216 1217 1218 1219 1220 1221 1222\n",
      " 1223 1224 1225 1226 1227 1228 1229 1230 1231 1232 1233 1234 1235 1236\n",
      " 1237]\n",
      "[   0    1    2 ... 1235 1236 1237]\n",
      "[1238 1239 1240 1241 1242 1243 1244 1245 1246 1247 1248 1249 1250 1251\n",
      " 1252 1253 1254 1255 1256 1257 1258 1259 1260 1261 1262 1263 1264 1265\n",
      " 1266 1267 1268 1269 1270 1271 1272 1273 1274 1275 1276 1277 1278 1279\n",
      " 1280 1281 1282 1283 1284 1285 1286 1287 1288 1289 1290 1291 1292 1293\n",
      " 1294 1295 1296 1297 1298 1299 1300 1301 1302 1303 1304 1305 1306 1307\n",
      " 1308 1309 1310 1311 1312 1313 1314 1315 1316 1317 1318 1319 1320 1321\n",
      " 1322 1323 1324 1325 1326 1327 1328 1329 1330 1331 1332 1333 1334 1335\n",
      " 1336 1337 1338 1339 1340 1341 1342 1343 1344 1345 1346 1347 1348 1349\n",
      " 1350 1351 1352 1353 1354 1355 1356 1357 1358 1359 1360 1361 1362 1363\n",
      " 1364 1365 1366 1367 1368 1369 1370 1371 1372 1373 1374 1375 1376 1377\n",
      " 1378 1379 1380 1381 1382 1383 1384 1385 1386 1387 1388 1389 1390 1391\n",
      " 1392 1393 1394 1395 1396 1397 1398 1399 1400 1401 1402 1403 1404 1405\n",
      " 1406 1407 1408 1409 1410 1411 1412 1413 1414 1415 1416 1417 1418 1419\n",
      " 1420 1421 1422 1423 1424 1425 1426 1427 1428 1429 1430 1431 1432 1433\n",
      " 1434 1435 1436 1437 1438 1439 1440 1441 1442 1443 1444 1445 1446 1447\n",
      " 1448 1449 1450 1451 1452 1453 1454 1455 1456 1457 1458 1459 1460 1461\n",
      " 1462 1463 1464 1465 1466 1467 1468 1469 1470 1471 1472 1473 1474 1475\n",
      " 1476 1477 1478 1479 1480 1481 1482 1483 1484 1485 1486 1487 1488 1489\n",
      " 1490 1491 1492 1493 1494 1495 1496 1497 1498 1499 1500 1501 1502 1503\n",
      " 1504 1505 1506 1507 1508 1509 1510 1511 1512 1513 1514 1515 1516 1517\n",
      " 1518 1519 1520 1521 1522 1523 1524 1525 1526 1527 1528 1529 1530 1531\n",
      " 1532 1533 1534 1535 1536 1537 1538 1539 1540 1541 1542 1543 1544 1545\n",
      " 1546]\n"
     ]
    }
   ],
   "source": [
    "# RMSE using 5-fold cross-validation\n",
    "\n",
    "for train,test in kf.split(X):\n",
    "    print (train)\n",
    "    print (test)\n",
    "    scores = []\n",
    "# for train, test in kf.split(X):\n",
    "#     linreg.fit(X[train],y[train])\n",
    "#     scores.append(np.sqrt(metrics.mean_squared_error(y[test], linreg.predict(X[test]))))\n",
    "# scores"
   ]
  },
  {
   "cell_type": "code",
   "execution_count": 382,
   "metadata": {},
   "outputs": [
    {
     "name": "stdout",
     "output_type": "stream",
     "text": [
      "[508016177.2673385, 508016177.2673385, 508016177.2673385, 508016177.2673385, 508016177.2673385]\n"
     ]
    }
   ],
   "source": [
    "# Testing\n",
    "\n",
    "for train,test in kf.split(X):\n",
    "    linreg.fit(X_train, y_train)\n",
    "    scores.append(np.sqrt(metrics.mean_squared_error(y_test, linreg.predict(X_test))))\n",
    "\n",
    "print(scores)"
   ]
  },
  {
   "cell_type": "code",
   "execution_count": 383,
   "metadata": {},
   "outputs": [
    {
     "data": {
      "text/plain": [
       "508016177.2673386"
      ]
     },
     "execution_count": 383,
     "metadata": {},
     "output_type": "execute_result"
    }
   ],
   "source": [
    "np.mean(scores)"
   ]
  },
  {
   "cell_type": "code",
   "execution_count": 384,
   "metadata": {},
   "outputs": [
    {
     "data": {
      "text/plain": [
       "508016177.2673385"
      ]
     },
     "execution_count": 384,
     "metadata": {},
     "output_type": "execute_result"
    }
   ],
   "source": [
    "np.median(scores)"
   ]
  },
  {
   "cell_type": "code",
   "execution_count": 385,
   "metadata": {},
   "outputs": [
    {
     "data": {
      "text/plain": [
       "5.960464477539063e-08"
      ]
     },
     "execution_count": 385,
     "metadata": {},
     "output_type": "execute_result"
    }
   ],
   "source": [
    "np.std(scores)"
   ]
  },
  {
   "cell_type": "code",
   "execution_count": 386,
   "metadata": {},
   "outputs": [
    {
     "name": "stdout",
     "output_type": "stream",
     "text": [
      "Method: Random Forest Regression\n",
      "RMSE on no CV training: 508016177.267\n",
      "RMSE on 5-fold CV: 508016177.267\n"
     ]
    }
   ],
   "source": [
    "def show_stats(m, ncv, cv):\n",
    "    print('Method: %s' %m)\n",
    "    print('RMSE on no CV training: %.3f' %ncv)\n",
    "    print('RMSE on 5-fold CV: %.3f' %cv)\n",
    "    \n",
    "show_stats('Random Forest Regression',rmse ,np.mean(scores))"
   ]
  },
  {
   "cell_type": "markdown",
   "metadata": {},
   "source": [
    "The most important hyper parameter are hiden layer size and activition.\n",
    "And all the other hyper parameter works better. Because after change hiden layer size and activition there are not too much changes. "
   ]
  },
  {
   "cell_type": "markdown",
   "metadata": {},
   "source": [
    "# Conclusion:\n",
    "Compared to supervised learner in Part A, neural network is better than random forest and decision tree, but not as good as linear regression and regularization."
   ]
  },
  {
   "cell_type": "code",
   "execution_count": null,
   "metadata": {},
   "outputs": [],
   "source": []
  }
 ],
 "metadata": {
  "kernelspec": {
   "display_name": "Python 3",
   "language": "python",
   "name": "python3"
  },
  "language_info": {
   "codemirror_mode": {
    "name": "ipython",
    "version": 3
   },
   "file_extension": ".py",
   "mimetype": "text/x-python",
   "name": "python",
   "nbconvert_exporter": "python",
   "pygments_lexer": "ipython3",
   "version": "3.7.0"
  }
 },
 "nbformat": 4,
 "nbformat_minor": 2
}
